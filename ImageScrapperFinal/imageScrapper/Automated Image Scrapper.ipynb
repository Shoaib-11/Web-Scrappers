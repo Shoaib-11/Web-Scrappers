{
 "cells": [
  {
   "cell_type": "code",
   "execution_count": 1,
   "metadata": {},
   "outputs": [],
   "source": [
    "import os\n",
    "import time\n",
    "import requests\n",
    "from selenium import webdriver"
   ]
  },
  {
   "cell_type": "code",
   "execution_count": 2,
   "metadata": {},
   "outputs": [],
   "source": [
    "# How to execute this code\n",
    "# Step 1 : pip install selenium. pillow, requests\n",
    "# Step 2 : make sure you have chrome installed on your machine\n",
    "# Step 3 : Check your chrome version ( go to three dot then help then about google chrome )\n",
    "# Step 4 : Download the same chrome driver from here  \" https://chromedriver.storage.googleapis.com/index.html \"\n",
    "# Step 5 : put it inside the same folder of this code"
   ]
  },
  {
   "cell_type": "code",
   "execution_count": 3,
   "metadata": {},
   "outputs": [],
   "source": [
    "def fetch_image_urls(query: str, max_links_to_fetch: int, wd: webdriver, sleep_between_interactions: int = 1):\n",
    "    def scroll_to_end(wd):\n",
    "        wd.execute_script(\"window.scrollTo(0, document.body.scrollHeight);\")\n",
    "        time.sleep(sleep_between_interactions)\n",
    "\n",
    "        # build the google query\n",
    "\n",
    "    search_url = \"https://www.google.com/search?safe=off&site=&tbm=isch&source=hp&q={q}&oq={q}&gs_l=img\"\n",
    "\n",
    "    # load the page\n",
    "    wd.get(search_url.format(q=query))\n",
    "\n",
    "    image_urls = set()\n",
    "    image_count = 0\n",
    "    results_start = 0\n",
    "    while image_count < max_links_to_fetch:\n",
    "        scroll_to_end(wd)\n",
    "\n",
    "        # get all image thumbnail results\n",
    "        thumbnail_results = wd.find_elements_by_css_selector(\"img.Q4LuWd\")\n",
    "        number_results = len(thumbnail_results)\n",
    "\n",
    "        print(f\"Found: {number_results} search results. Extracting links from {results_start}:{number_results}\")\n",
    "\n",
    "        for img in thumbnail_results[results_start:number_results]:\n",
    "            # try to click every thumbnail such that we can get the real image behind it\n",
    "            try:\n",
    "                img.click()\n",
    "                time.sleep(sleep_between_interactions)\n",
    "            except Exception:\n",
    "                continue\n",
    "\n",
    "            # extract image urls\n",
    "            actual_images = wd.find_elements_by_css_selector('img.n3VNCb')\n",
    "            for actual_image in actual_images:\n",
    "                if actual_image.get_attribute('src') and 'http' in actual_image.get_attribute('src'):\n",
    "                    image_urls.add(actual_image.get_attribute('src'))\n",
    "\n",
    "            image_count = len(image_urls)\n",
    "\n",
    "            if len(image_urls) >= max_links_to_fetch:\n",
    "                print(f\"Found: {len(image_urls)} image links, done!\")\n",
    "                break\n",
    "        else:\n",
    "            print(\"Found:\", len(image_urls), \"image links, looking for more ...\")\n",
    "            time.sleep(30)\n",
    "            return\n",
    "            load_more_button = wd.find_element_by_css_selector(\".mye4qd\")\n",
    "            if load_more_button:\n",
    "                wd.execute_script(\"document.querySelector('.mye4qd').click();\")\n",
    "\n",
    "        # move the result startpoint further down\n",
    "        results_start = len(thumbnail_results)\n",
    "\n",
    "    return image_urls"
   ]
  },
  {
   "cell_type": "code",
   "execution_count": 4,
   "metadata": {},
   "outputs": [],
   "source": [
    "def persist_image(folder_path:str,url:str, counter):\n",
    "    try:\n",
    "        image_content = requests.get(url).content\n",
    "\n",
    "    except Exception as e:\n",
    "        print(f\"ERROR - Could not download {url} - {e}\")\n",
    "\n",
    "    try:\n",
    "        f = open(os.path.join(folder_path, 'jpg' + \"_\" + str(counter) + \".jpg\"), 'wb')\n",
    "        f.write(image_content)\n",
    "        f.close()\n",
    "        print(f\"SUCCESS - saved {url} - as {folder_path}\")\n",
    "    except Exception as e:\n",
    "        print(f\"ERROR - Could not save {url} - {e}\")"
   ]
  },
  {
   "cell_type": "code",
   "execution_count": 5,
   "metadata": {},
   "outputs": [],
   "source": [
    "def search_and_download(search_term: str, driver_path: str, target_path='./images', number_images=10):\n",
    "    target_folder = os.path.join(target_path, '_'.join(search_term.lower().split(' '))) # make the folder name inside images with the search string\n",
    "\n",
    "    if not os.path.exists(target_folder):\n",
    "        os.makedirs(target_folder) # make directory using the target path if it doesn't exist already\n",
    "\n",
    "    with webdriver.Chrome(executable_path=driver_path) as wd:\n",
    "        res = fetch_image_urls(search_term, number_images, wd=wd, sleep_between_interactions=0.5)\n",
    "\n",
    "    counter = 0\n",
    "    for elem in res:\n",
    "        persist_image(target_folder, elem, counter)\n",
    "        counter += 1"
   ]
  },
  {
   "cell_type": "code",
   "execution_count": 9,
   "metadata": {},
   "outputs": [],
   "source": [
    "def imagescrapper(search_term):\n",
    "    DRIVER_PATH = './chromedriver'\n",
    "    # num of images you can pass it from here  by default it's 10 if you are not passing\n",
    "    # number_images = 10\n",
    "    search_and_download(search_term=search_term, driver_path=DRIVER_PATH) # method to download images"
   ]
  },
  {
   "cell_type": "code",
   "execution_count": 10,
   "metadata": {},
   "outputs": [
    {
     "name": "stdout",
     "output_type": "stream",
     "text": [
      "Found: 100 search results. Extracting links from 0:100\n",
      "Found: 10 image links, done!\n",
      "SUCCESS - saved https://encrypted-tbn0.gstatic.com/images?q=tbn%3AANd9GcSQV5XnJMGp-VwXLSvUtUxp3l2RP0Vl4ncNALLl6ETtVdKtd269&usqp=CAU - as ./images\\buildings\n",
      "SUCCESS - saved https://encrypted-tbn0.gstatic.com/images?q=tbn%3AANd9GcQXbwlaheYBhYXoCM0lfJza7YWB_nSGmBgZ6j8yVvrbTS1OjHO1&usqp=CAU - as ./images\\buildings\n",
      "SUCCESS - saved https://encrypted-tbn0.gstatic.com/images?q=tbn%3AANd9GcTESnXWij3Yt_xH4yTOTn5ca5z0e0FuP_mpH0oajBY6avsWAW4i&usqp=CAU - as ./images\\buildings\n",
      "SUCCESS - saved https://encrypted-tbn0.gstatic.com/images?q=tbn%3AANd9GcQJOdEgW5YkxNFyTkeufVfpxw0guRgXGZeZWmYzSjVK2SnsNW4C&usqp=CAU - as ./images\\buildings\n",
      "SUCCESS - saved https://encrypted-tbn0.gstatic.com/images?q=tbn%3AANd9GcSdDkuaOyEba1dvDIE6w3LWphSgyICMY2cT9CG4keOOWYMdBGV9&usqp=CAU - as ./images\\buildings\n",
      "SUCCESS - saved https://encrypted-tbn0.gstatic.com/images?q=tbn%3AANd9GcT6umDm37LSCqbTLxsBCWRHAaQcKrJFOorqhBjNgwUQx_MmXstW&usqp=CAU - as ./images\\buildings\n",
      "SUCCESS - saved https://cdn.redshift.autodesk.com/2018/08/future-of-buildings-header.jpg - as ./images\\buildings\n",
      "SUCCESS - saved https://encrypted-tbn0.gstatic.com/images?q=tbn%3AANd9GcTIGBoI0jioYT-M9ENhqTqTR-4RTsjMIyPKt4LztkzEJ_u7cDiO&usqp=CAU - as ./images\\buildings\n",
      "SUCCESS - saved https://encrypted-tbn0.gstatic.com/images?q=tbn%3AANd9GcSM8d49JXinPYctHi-xztkfNC0neUbpNON4suq7xrf5rtwemWZr&usqp=CAU - as ./images\\buildings\n",
      "SUCCESS - saved https://encrypted-tbn0.gstatic.com/images?q=tbn%3AANd9GcQUCqrzecNJWZJM94FU3ianhWa542IBu5svqECHNWVNmaLok1OV&usqp=CAU - as ./images\\buildings\n"
     ]
    }
   ],
   "source": [
    "imagescrapper(\"Buildings\")"
   ]
  },
  {
   "cell_type": "code",
   "execution_count": null,
   "metadata": {},
   "outputs": [],
   "source": [
    "Done !"
   ]
  }
 ],
 "metadata": {
  "kernelspec": {
   "display_name": "Python 3",
   "language": "python",
   "name": "python3"
  },
  "language_info": {
   "codemirror_mode": {
    "name": "ipython",
    "version": 3
   },
   "file_extension": ".py",
   "mimetype": "text/x-python",
   "name": "python",
   "nbconvert_exporter": "python",
   "pygments_lexer": "ipython3",
   "version": "3.6.5"
  }
 },
 "nbformat": 4,
 "nbformat_minor": 2
}
